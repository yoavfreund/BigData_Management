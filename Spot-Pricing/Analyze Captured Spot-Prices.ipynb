{
 "metadata": {
  "name": "",
  "signature": "sha256:1069840dbc4d9b12da2b78a75b9d5dc0708d410b3b0e82b7e465ea1fb9cd9fde"
 },
 "nbformat": 3,
 "nbformat_minor": 0,
 "worksheets": [
  {
   "cells": [
    {
     "cell_type": "code",
     "collapsed": false,
     "input": [
      "import json"
     ],
     "language": "python",
     "metadata": {},
     "outputs": [],
     "prompt_number": 1
    },
    {
     "cell_type": "code",
     "collapsed": false,
     "input": [
      "!ls"
     ],
     "language": "python",
     "metadata": {},
     "outputs": [
      {
       "output_type": "stream",
       "stream": "stdout",
       "text": [
        "Analyze Captured Spot-Prices.ipynb Captured-Sample.json\r\n"
       ]
      }
     ],
     "prompt_number": 2
    },
    {
     "cell_type": "code",
     "collapsed": false,
     "input": [
      "J=json.load(open('Captured-Sample.json','r'))"
     ],
     "language": "python",
     "metadata": {},
     "outputs": [],
     "prompt_number": 4
    },
    {
     "cell_type": "code",
     "collapsed": false,
     "input": [
      "type(J)"
     ],
     "language": "python",
     "metadata": {},
     "outputs": [
      {
       "metadata": {},
       "output_type": "pyout",
       "prompt_number": 6,
       "text": [
        "dict"
       ]
      }
     ],
     "prompt_number": 6
    },
    {
     "cell_type": "code",
     "collapsed": false,
     "input": [
      "J.keys()"
     ],
     "language": "python",
     "metadata": {},
     "outputs": [
      {
       "metadata": {},
       "output_type": "pyout",
       "prompt_number": 7,
       "text": [
        "[u'nextToken', u'spotPriceHistorySet']"
       ]
      }
     ],
     "prompt_number": 7
    },
    {
     "cell_type": "code",
     "collapsed": false,
     "input": [
      "List=J[u'spotPriceHistorySet']\n",
      "print len(List)\n",
      "List[0].keys()"
     ],
     "language": "python",
     "metadata": {},
     "outputs": [
      {
       "output_type": "stream",
       "stream": "stdout",
       "text": [
        "512\n"
       ]
      },
      {
       "metadata": {},
       "output_type": "pyout",
       "prompt_number": 33,
       "text": [
        "[u'productDescription',\n",
        " u'availabilityZone',\n",
        " u'instanceType',\n",
        " u'spotPrice',\n",
        " u'timestamp']"
       ]
      }
     ],
     "prompt_number": 33
    },
    {
     "cell_type": "code",
     "collapsed": false,
     "input": [
      "unique([e[u'instanceType'] for e in List])\n",
      "    "
     ],
     "language": "python",
     "metadata": {},
     "outputs": [
      {
       "metadata": {},
       "output_type": "pyout",
       "prompt_number": 13,
       "text": [
        "array([u'c1.medium', u'c1.xlarge', u'c3.2xlarge', u'c3.4xlarge',\n",
        "       u'c3.8xlarge', u'c3.large', u'c3.xlarge', u'cc1.4xlarge',\n",
        "       u'cc2.8xlarge', u'cg1.4xlarge', u'cr1.8xlarge', u'g2.2xlarge',\n",
        "       u'hi1.4xlarge', u'm1.large', u'm1.medium', u'm1.small',\n",
        "       u'm1.xlarge', u'm2.2xlarge', u'm2.4xlarge', u'm2.xlarge',\n",
        "       u'm3.2xlarge', u'm3.large', u'm3.medium', u'm3.xlarge',\n",
        "       u'r3.2xlarge', u'r3.4xlarge', u'r3.8xlarge', u'r3.large',\n",
        "       u'r3.xlarge', u't1.micro'], \n",
        "      dtype='<U11')"
       ]
      }
     ],
     "prompt_number": 13
    },
    {
     "cell_type": "code",
     "collapsed": false,
     "input": [
      "unique([e[u'availabilityZone'] for e in List])"
     ],
     "language": "python",
     "metadata": {},
     "outputs": [
      {
       "metadata": {},
       "output_type": "pyout",
       "prompt_number": 15,
       "text": [
        "array([u'us-east-1a', u'us-east-1b', u'us-east-1d'], \n",
        "      dtype='<U10')"
       ]
      }
     ],
     "prompt_number": 15
    },
    {
     "cell_type": "code",
     "collapsed": false,
     "input": [
      "[e[u'spotPrice'] for e in List if (e[u'instanceType']==u'c1.medium')*(e[u'availabilityZone']==u'us-east-1d')]"
     ],
     "language": "python",
     "metadata": {},
     "outputs": [
      {
       "metadata": {},
       "output_type": "pyout",
       "prompt_number": 21,
       "text": [
        "[u'0.025000', u'0.016300', u'0.025000', u'0.016100', u'0.050100', u'0.050100']"
       ]
      }
     ],
     "prompt_number": 21
    },
    {
     "cell_type": "code",
     "collapsed": false,
     "input": [],
     "language": "python",
     "metadata": {},
     "outputs": [],
     "prompt_number": 31
    },
    {
     "cell_type": "code",
     "collapsed": false,
     "input": [
      "from collections import Counter"
     ],
     "language": "python",
     "metadata": {},
     "outputs": [],
     "prompt_number": 35
    },
    {
     "cell_type": "code",
     "collapsed": false,
     "input": [
      "Count={}\n",
      "for item in [u'productDescription', u'availabilityZone', u'instanceType']:\n",
      "    Count[item]=Counter([e[item] for e in List])\n",
      "    print item\n",
      "    print Count[item]"
     ],
     "language": "python",
     "metadata": {},
     "outputs": [
      {
       "output_type": "stream",
       "stream": "stdout",
       "text": [
        "productDescription\n",
        "Counter({u'Linux/UNIX': 88, u'SUSE Linux': 88, u'SUSE Linux (Amazon VPC)': 85, u'Windows': 85, u'Linux/UNIX (Amazon VPC)': 85, u'Windows (Amazon VPC)': 81})\n",
        "availabilityZone\n",
        "Counter({u'us-east-1a': 174, u'us-east-1b': 172, u'us-east-1d': 166})\n",
        "instanceType\n",
        "Counter({u'm3.large': 18, u'm3.2xlarge': 18, u'c3.2xlarge': 18, u'r3.4xlarge': 18, u'm1.small': 18, u'c1.medium': 18, u'r3.2xlarge': 18, u't1.micro': 18, u'c3.large': 18, u'c3.xlarge': 18, u'm1.large': 18, u'c3.8xlarge': 18, u'c3.4xlarge': 18, u'hi1.4xlarge': 18, u'c1.xlarge': 18, u'm2.2xlarge': 18, u'g2.2xlarge': 18, u'm1.xlarge': 18, u'm2.xlarge': 18, u'm1.medium': 18, u'r3.large': 18, u'm3.medium': 18, u'cc2.8xlarge': 18, u'r3.xlarge': 18, u'r3.8xlarge': 18, u'm2.4xlarge': 18, u'm3.xlarge': 18, u'cr1.8xlarge': 12, u'cg1.4xlarge': 8, u'cc1.4xlarge': 6})\n"
       ]
      }
     ],
     "prompt_number": 41
    },
    {
     "cell_type": "code",
     "collapsed": false,
     "input": [],
     "language": "python",
     "metadata": {},
     "outputs": []
    }
   ],
   "metadata": {}
  }
 ]
}